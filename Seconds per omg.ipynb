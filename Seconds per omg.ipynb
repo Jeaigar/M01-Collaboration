{
 "cells": [
  {
   "cell_type": "code",
   "execution_count": 3,
   "id": "1cc6d915-2b0e-4123-967d-377881e2fee2",
   "metadata": {},
   "outputs": [
    {
     "data": {
      "text/plain": [
       "3600"
      ]
     },
     "execution_count": 3,
     "metadata": {},
     "output_type": "execute_result"
    }
   ],
   "source": [
    "# Number of seconds in a minute\n",
    "seconds_in_minute = 60\n",
    "\n",
    "# Number of minutes in an hour\n",
    "minutes_in_hour = 60\n",
    "\n",
    "# Calculate the number of seconds in an hour\n",
    "seconds_in_hour = seconds_in_minute * minutes_in_hour\n",
    "seconds_in_hour"
   ]
  },
  {
   "cell_type": "code",
   "execution_count": 4,
   "id": "4ce8e6ca-1d64-493c-85d9-287d22f74d6f",
   "metadata": {},
   "outputs": [
    {
     "data": {
      "text/plain": [
       "3600"
      ]
     },
     "execution_count": 4,
     "metadata": {},
     "output_type": "execute_result"
    }
   ],
   "source": [
    "# Assign the number of seconds in an hour to a variable\n",
    "seconds_per_hour = seconds_in_hour\n",
    "seconds_per_hour"
   ]
  },
  {
   "cell_type": "code",
   "execution_count": 5,
   "id": "fcc9a2c8-c990-4116-b3c8-aea80417dc94",
   "metadata": {},
   "outputs": [
    {
     "data": {
      "text/plain": [
       "86400"
      ]
     },
     "execution_count": 5,
     "metadata": {},
     "output_type": "execute_result"
    }
   ],
   "source": [
    "# Number of hours in a day\n",
    "hours_in_day = 24\n",
    "\n",
    "# Calculate the number of seconds in a day\n",
    "seconds_in_day = hours_in_day * seconds_per_hour\n",
    "seconds_in_day\n"
   ]
  },
  {
   "cell_type": "code",
   "execution_count": 6,
   "id": "9bc5751d-64cd-4019-b452-dd67a9315eb4",
   "metadata": {},
   "outputs": [
    {
     "data": {
      "text/plain": [
       "86400"
      ]
     },
     "execution_count": 6,
     "metadata": {},
     "output_type": "execute_result"
    }
   ],
   "source": [
    "# Assign the number of seconds in a day to a variable\n",
    "seconds_per_day = seconds_in_day\n",
    "seconds_per_day"
   ]
  },
  {
   "cell_type": "code",
   "execution_count": 7,
   "id": "1eebd49a-20d2-4aa5-8410-ce02d718f84d",
   "metadata": {},
   "outputs": [
    {
     "data": {
      "text/plain": [
       "24.0"
      ]
     },
     "execution_count": 7,
     "metadata": {},
     "output_type": "execute_result"
    }
   ],
   "source": [
    "# Calculate the number of hours in a day using floating-point division\n",
    "hours_in_day = seconds_per_day / seconds_per_hour\n",
    "hours_in_day"
   ]
  }
 ],
 "metadata": {
  "kernelspec": {
   "display_name": "Python 3 (ipykernel)",
   "language": "python",
   "name": "python3"
  },
  "language_info": {
   "codemirror_mode": {
    "name": "ipython",
    "version": 3
   },
   "file_extension": ".py",
   "mimetype": "text/x-python",
   "name": "python",
   "nbconvert_exporter": "python",
   "pygments_lexer": "ipython3",
   "version": "3.11.7"
  }
 },
 "nbformat": 4,
 "nbformat_minor": 5
}
